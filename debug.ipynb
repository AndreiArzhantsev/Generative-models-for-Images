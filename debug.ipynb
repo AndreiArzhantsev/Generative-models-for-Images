{
 "cells": [
  {
   "cell_type": "code",
   "execution_count": null,
   "id": "c8a9e4cf",
   "metadata": {
    "cellId": "bkm2t6tgpq6k6zz3885ut",
    "execution_id": "c37db9c2-64b1-494b-83e1-a50140d6d31f"
   },
   "outputs": [],
   "source": [
    "#!g1.1\n",
    "import os\n",
    "from torch.utils.data import DataLoader\n",
    "from torchvision.datasets import ImageFolder\n",
    "import torchvision.transforms as tt\n",
    "import torch\n",
    "import torch.nn as nn\n",
    "import cv2\n",
    "from tqdm.notebook import tqdm\n",
    "import torch.nn.functional as F\n",
    "from torchvision.utils import save_image\n",
    "from torchvision.utils import make_grid\n",
    "import numpy as np\n",
    "import matplotlib.pyplot as plt\n",
    "import seaborn as sns"
   ]
  },
  {
   "cell_type": "code",
   "execution_count": null,
   "id": "44bcf63c",
   "metadata": {
    "cellId": "7yugb5g7w4nwd345ikf13",
    "execution_id": "f57f686c-18b8-4a4a-b69b-1f218a3e2687"
   },
   "outputs": [],
   "source": [
    "#!g1.1\n",
    "from visualize import show_images, show_batch, save_samples"
   ]
  },
  {
   "cell_type": "code",
   "execution_count": null,
   "id": "83484f82",
   "metadata": {
    "cellId": "5p6tyujlaf49n8i4fzo2p",
    "execution_id": "7d5189d5-d2b4-43a7-9b6b-64c36e7575dc"
   },
   "outputs": [],
   "source": [
    "#!g1.1\n",
    "DATA_DIR = 'data/data'\n",
    "\n",
    "# params for data\n",
    "image_size = 64\n",
    "batch_size = 128\n",
    "stats = (0.5, 0.5, 0.5), (0.5, 0.5, 0.5)"
   ]
  },
  {
   "cell_type": "code",
   "execution_count": null,
   "id": "04e7f7c2",
   "metadata": {
    "cellId": "tf7lovqx1jn29lc8e1x6hz",
    "execution_id": "19b0ca10-b159-4d07-82c1-ffdab0cf96db"
   },
   "outputs": [],
   "source": [
    "#!g1.1\n",
    "train_ds = ImageFolder(DATA_DIR, transform=tt.Compose([\n",
    "    tt.Resize(image_size),\n",
    "    tt.CenterCrop(image_size),\n",
    "    tt.ToTensor(),\n",
    "    tt.Normalize(*stats)]))\n",
    "train_dl = DataLoader(train_ds, batch_size, shuffle=True, num_workers=2, pin_memory=True)"
   ]
  },
  {
   "cell_type": "code",
   "execution_count": null,
   "id": "dcd521e4",
   "metadata": {
    "cellId": "s1d6znhbb7mituva4fs7e",
    "execution_id": "060e67f3-15cd-4620-9f2b-54ff29785a33"
   },
   "outputs": [],
   "source": [
    "#!g1.1\n",
    "show_batch(train_dl, stats)"
   ]
  },
  {
   "cell_type": "code",
   "execution_count": null,
   "id": "a11bc18e",
   "metadata": {
    "cellId": "bycnj20pjsqinn2r7iy46",
    "execution_id": "a8db1ed4-3d57-4097-9d16-7185ac51db01"
   },
   "outputs": [],
   "source": [
    "#!g1.1\n",
    "from \n",
    "device = torch.device('cuda') if torch.cuda.is_available() else torch.device('cpu')\n",
    "device"
   ]
  },
  {
   "cell_type": "code",
   "execution_count": null,
   "id": "4ad07f8f",
   "metadata": {
    "cellId": "3usgsydrr5vkld88a3ebdn",
    "execution_id": "a30e358d-4dd1-4254-b6da-c4e2297cca86"
   },
   "outputs": [],
   "source": [
    "#!g1.1\n",
    "from models import Generator, Discriminator, weights_init"
   ]
  },
  {
   "cell_type": "code",
   "execution_count": null,
   "id": "439afbc4",
   "metadata": {
    "cellId": "fjpvc1eqdy9ystb816vcpf",
    "execution_id": "7c771e72-014a-48f9-98f1-28680491aeef"
   },
   "outputs": [],
   "source": [
    "#!g1.1\n",
    "latent_size = 128\n",
    "generator = Generator(latent_size=latent_size).to(device)\n",
    "generator.apply(weights_init)\n",
    "discriminator = Discriminator().to(device)\n",
    "discriminator.apply(weights_init);"
   ]
  },
  {
   "cell_type": "code",
   "execution_count": null,
   "id": "43471b36",
   "metadata": {
    "cellId": "7ni2cv13f5cde19fko7d4k",
    "execution_id": "5f55ed59-a875-427d-838f-4a05c733dc8f"
   },
   "outputs": [],
   "source": [
    "#!g1.1\n",
    "criterion = nn.BCELoss()\n",
    "optimizer_generator = torch.optim.Adam(generator.parameters(), lr=0.0001, betas=(0.5, 0.999))\n",
    "optimizer_discriminator = torch.optim.Adam(discriminator.parameters(), lr=0.0001, betas=(0.5, 0.999))"
   ]
  },
  {
   "cell_type": "code",
   "execution_count": null,
   "id": "e3b47fb5",
   "metadata": {
    "cellId": "micy0no33aj7ihz56wlmnw"
   },
   "outputs": [],
   "source": [
    "#!g1.1\n",
    "from train import fit"
   ]
  },
  {
   "cell_type": "code",
   "execution_count": null,
   "id": "c934fc61",
   "metadata": {
    "cellId": "fi4an3feuypz9og7p3wn2r",
    "execution_id": "b8d5f690-38a1-43c4-92e6-6926b5985ba8"
   },
   "outputs": [],
   "source": [
    "#!g1.1\n",
    "history = fit(model, criterion, epochs, lr)\n"
   ]
  },
  {
   "cell_type": "code",
   "execution_count": null,
   "id": "971683a3",
   "metadata": {
    "cellId": "gtm3pmadi3eq6xikicvlcg"
   },
   "outputs": [],
   "source": [
    "#!g1.1\n"
   ]
  }
 ],
 "metadata": {
  "kernelspec": {
   "display_name": "DataSphere Kernel",
   "language": "python",
   "name": "python3"
  },
  "language_info": {
   "codemirror_mode": {
    "name": "ipython",
    "version": 3
   },
   "file_extension": ".py",
   "mimetype": "text/x-python",
   "name": "python",
   "nbconvert_exporter": "python",
   "pygments_lexer": "ipython3",
   "version": "3.10.12"
  },
  "notebookId": "6f9525b7-0716-4c6a-ba24-b692f18085ce",
  "notebookPath": "test.ipynb"
 },
 "nbformat": 4,
 "nbformat_minor": 5
}
